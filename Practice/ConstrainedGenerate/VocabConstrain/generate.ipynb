{
 "cells": [
  {
   "cell_type": "code",
   "execution_count": 2,
   "metadata": {},
   "outputs": [
    {
     "name": "stderr",
     "output_type": "stream",
     "text": [
      "Loading checkpoint shards: 100%|██████████| 2/2 [00:04<00:00,  2.14s/it]\n"
     ]
    },
    {
     "name": "stdout",
     "output_type": "stream",
     "text": [
      "['yes']\n",
      "['<pad> yes</s>']\n",
      "tensor([[0.0290, 0.0054, 0.1668, 0.7988]])\n"
     ]
    }
   ],
   "source": [
    "import torch\n",
    "from transformers import AutoModelForSeq2SeqLM, AutoTokenizer\n",
    "\n",
    "model = AutoModelForSeq2SeqLM.from_pretrained('google/flan-t5-xl')\n",
    "tokenizer = AutoTokenizer.from_pretrained('google/flan-t5-xl')"
   ]
  },
  {
   "cell_type": "code",
   "execution_count": 5,
   "metadata": {},
   "outputs": [
    {
     "name": "stdout",
     "output_type": "stream",
     "text": [
      "['yes']\n",
      "['<pad> yes</s>']\n",
      "tensor([[0.8654, 0.1346]])\n",
      "tensor([[0.1760, 0.8240]])\n"
     ]
    }
   ],
   "source": [
    "\n",
    "# get ids in vocab\n",
    "tokenizer(['yes', 'no', 'Yes', 'No', 'A', 'B', 'C', 'D'])['input_ids']\n",
    "# [[0, 10932, 2], [0, 2362, 2], [0, 9904, 2], [0, 3084, 2], [0, 250, 2], [0, 387, 2], [0, 347, 2], [0, 495, 2]]\n",
    "constrained_idx1 = [10932, 2362]\n",
    "constrained_idx2 = [9904, 3084]\n",
    "\n",
    "# get the scores of certain tokens\n",
    "inputs = tokenizer('Is the basketball bigger then the pingpong ball ?', return_tensors=\"pt\")\n",
    "outputs = model.generate(inputs[\"input_ids\"],\n",
    "                         num_beams=1, \n",
    "                         return_dict_in_generate=True,\n",
    "                         output_scores=True)\n",
    "print(tokenizer.batch_decode(outputs.sequences, skip_special_tokens=True))\n",
    "print(tokenizer.batch_decode(outputs.sequences))\n",
    "logits = outputs.scores[1] # skip the bos token\n",
    "constrained_logits = logits[:, constrained_idx1]\n",
    "print(torch.softmax(constrained_logits, dim=-1)) # 0.9015, 0.0985\n",
    "constrained_logits = logits[:, constrained_idx2]\n",
    "print(torch.softmax(constrained_logits, dim=-1)) # 0.0073, 0.9927"
   ]
  },
  {
   "cell_type": "code",
   "execution_count": null,
   "metadata": {},
   "outputs": [],
   "source": []
  }
 ],
 "metadata": {
  "kernelspec": {
   "display_name": "nlp",
   "language": "python",
   "name": "python3"
  },
  "language_info": {
   "codemirror_mode": {
    "name": "ipython",
    "version": 3
   },
   "file_extension": ".py",
   "mimetype": "text/x-python",
   "name": "python",
   "nbconvert_exporter": "python",
   "pygments_lexer": "ipython3",
   "version": "3.8.13"
  },
  "orig_nbformat": 4
 },
 "nbformat": 4,
 "nbformat_minor": 2
}
