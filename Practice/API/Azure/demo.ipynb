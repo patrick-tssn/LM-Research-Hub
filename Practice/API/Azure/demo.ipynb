{
 "cells": [
  {
   "cell_type": "code",
   "execution_count": 10,
   "metadata": {},
   "outputs": [],
   "source": [
    "import openai\n",
    "\n",
    "from os import getenv\n",
    "from dotenv import load_dotenv\n",
    "# openai.log = \"debug\"\n",
    "load_dotenv()\n",
    "\n",
    "openai.api_key = getenv(\"AZURE_OPENAI_KEY\")\n",
    "openai.api_base = getenv(\"AZURE_OPENAI_ENDPOINT\")\n",
    "openai.api_type = \"azure\"\n",
    "openai.api_version = '2023-05-15'"
   ]
  },
  {
   "cell_type": "code",
   "execution_count": 13,
   "metadata": {},
   "outputs": [],
   "source": [
    "def openai_chat_api_stream(messages: list, temperature=0.7, top_p=0.5):\n",
    "    \n",
    "    response = openai.ChatCompletion.create(\n",
    "        engine='gpt-35-turbo',\n",
    "        messages=messages,\n",
    "        temperature=temperature, # 0-2 default 1; larger with more diversity\n",
    "        top_p=top_p, # https://huggingface.co/blog/how-to-generate\n",
    "        stream=True,\n",
    "    )\n",
    "    completion = {'role': '', 'content': ''}\n",
    "    for event in response:\n",
    "        if event['choices'][0]['finish_reason'] == 'stop':\n",
    "            # print(f'收到的完成数据: {completion}')\n",
    "            break\n",
    "        for delta_k, delta_v in event['choices'][0]['delta'].items():\n",
    "            # print(f'流响应数据: {delta_k} = {delta_v}')\n",
    "            completion[delta_k] += delta_v\n",
    "    messages.append(completion)  # 直接在传入参数 messages 中追加消息\n",
    "    responses = []\n",
    "    for dct in messages:\n",
    "        if dct['role'] == 'assistant':\n",
    "            responses.append(dct['content'])\n",
    "    return '\\n'.join(responses)"
   ]
  },
  {
   "cell_type": "code",
   "execution_count": 15,
   "metadata": {},
   "outputs": [
    {
     "name": "stdout",
     "output_type": "stream",
     "text": [
      "8\n"
     ]
    }
   ],
   "source": [
    "import time\n",
    "messages=[\n",
    "            {\"role\": \"user\", \"content\": 'what is the different between GPT-3.5 and GPT4?'}\n",
    "        ]\n",
    "cnt = 0\n",
    "s = time.time()\n",
    "while True:\n",
    "    response = openai_chat_api_stream(messages)\n",
    "    # print(response)\n",
    "    cnt += 1\n",
    "    e = time.time()\n",
    "    if e - s > 60: break\n",
    "    \n",
    "print(cnt)\n"
   ]
  },
  {
   "cell_type": "code",
   "execution_count": 17,
   "metadata": {},
   "outputs": [
    {
     "name": "stdout",
     "output_type": "stream",
     "text": [
      "60\n"
     ]
    }
   ],
   "source": [
    "import time\n",
    "messages=[\n",
    "            {\"role\": \"user\", \"content\": 'what is the different between GPT-3.5 and GPT4?'}\n",
    "        ]\n",
    "cnt = 0\n",
    "s = time.time()\n",
    "while True:\n",
    "    response = openai.Completion.create(\n",
    "        engine='gpt-35-turbo',\n",
    "        prompt = messages[0]['content'],\n",
    "        temperature=0.7,\n",
    "        top_p=0.5,\n",
    "    )\n",
    "    # print(response)\n",
    "    cnt += 1\n",
    "    e = time.time()\n",
    "    if e - s > 60: break\n",
    "    \n",
    "print(cnt)\n"
   ]
  },
  {
   "cell_type": "code",
   "execution_count": null,
   "metadata": {},
   "outputs": [],
   "source": []
  }
 ],
 "metadata": {
  "kernelspec": {
   "display_name": "nlp",
   "language": "python",
   "name": "python3"
  },
  "language_info": {
   "codemirror_mode": {
    "name": "ipython",
    "version": 3
   },
   "file_extension": ".py",
   "mimetype": "text/x-python",
   "name": "python",
   "nbconvert_exporter": "python",
   "pygments_lexer": "ipython3",
   "version": "3.8.13"
  },
  "orig_nbformat": 4
 },
 "nbformat": 4,
 "nbformat_minor": 2
}
