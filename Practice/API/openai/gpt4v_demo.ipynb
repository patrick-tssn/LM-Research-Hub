{
 "cells": [
  {
   "attachments": {},
   "cell_type": "markdown",
   "metadata": {},
   "source": [
    "## GPT-4v\n",
    "\n",
    "- link: https://platform.openai.com/docs/guides/vision\n",
    "- format: png, jpeg/jpg, webp, gif\n",
    "- tokens for image\n",
    "    - high: scale longest side to 2048px, scale shortest side to 768px, count the number of 512px squares, each 512px square cost 170 tokens, add 85 tokens\n",
    "    - low: 85 tokens (resized to 256px ?)\n",
    "- notes: no support of metadata\n"
   ]
  },
  {
   "cell_type": "code",
   "execution_count": 2,
   "metadata": {},
   "outputs": [],
   "source": [
    "import openai\n",
    "from openai import OpenAI\n",
    "from os import getenv\n",
    "from dotenv import load_dotenv\n",
    "load_dotenv()\n",
    "OPENAI_KEY = getenv(\"OPENAI_KEY\")\n",
    "OPENAI_ORG = getenv(\"OPENAI_ORG\")\n",
    "\n",
    "import urllib.request\n",
    "from PIL import Image\n",
    "import base64\n",
    "import requests"
   ]
  },
  {
   "attachments": {},
   "cell_type": "markdown",
   "metadata": {},
   "source": [
    "### 1. Image Url"
   ]
  },
  {
   "cell_type": "code",
   "execution_count": 4,
   "metadata": {},
   "outputs": [
    {
     "name": "stdout",
     "output_type": "stream",
     "text": [
      "The image displays a serene landscape featuring a wooden boardwalk extending through a lush green meadow. The meadow is surrounded by diverse vegetation, possibly indicating a natural, possibly wetland, environment. The sky above is partly cloudy, suggesting a fair weather day with ample sunlight enhancing the vibrancy of the scene.\n"
     ]
    },
    {
     "data": {
      "text/plain": [
       "('example.jpg', <http.client.HTTPMessage at 0x7f2e56901910>)"
      ]
     },
     "execution_count": 4,
     "metadata": {},
     "output_type": "execute_result"
    }
   ],
   "source": [
    "image_url = \"https://upload.wikimedia.org/wikipedia/commons/thumb/d/dd/Gfp-wisconsin-madison-the-nature-boardwalk.jpg/2560px-Gfp-wisconsin-madison-the-nature-boardwalk.jpg\"\n",
    "client = OpenAI(\n",
    "    api_key=OPENAI_KEY,\n",
    "    organization=OPENAI_ORG\n",
    ")\n",
    "response = client.chat.completions.create(\n",
    "    model=\"gpt-4-vision-preview\",\n",
    "    messages=[\n",
    "        {\n",
    "            \"role\": \"user\",\n",
    "            \"content\": [\n",
    "                {\"type\": \"text\", \"text\": \"What's in this image?\"},\n",
    "                {\n",
    "                    \"type\": \"image_url\",\n",
    "                    \"image_url\": image_url,\n",
    "                }\n",
    "            ]\n",
    "        }\n",
    "    ],\n",
    "    max_tokens=300,\n",
    ")\n",
    "print(response.choices[0].message.content)\n",
    "\n",
    "urllib.request.urlretrieve(image_url, \"example.jpg\")\n",
    "# img = Image.open('example.jpg')\n",
    "# img"
   ]
  },
  {
   "cell_type": "code",
   "execution_count": 5,
   "metadata": {},
   "outputs": [
    {
     "name": "stdout",
     "output_type": "stream",
     "text": [
      "This image shows a beautiful natural landscape featuring a wooden boardwalk extending through a lush green field with tall grasses. The sky is mostly clear with a few fluffy clouds, and it appears to be a sunny day. The scene looks peaceful and inviting, perfect for a nature walk or for simply enjoying the outdoors. The boardwalk provides a path that encourages exploration while protecting the natural vegetation. Trees and bushes are visible in the distance, adding to the diversity of the greenery.\n"
     ]
    }
   ],
   "source": [
    "# Function to encode the image\n",
    "def encode_image(image_path):\n",
    "    with open(image_path, \"rb\") as image_file:\n",
    "        return base64.b64encode(image_file.read()).decode('utf-8')\n",
    "\n",
    "# Path to your image\n",
    "image_path = \"example.jpg\"\n",
    "\n",
    "# Getting the base64 string\n",
    "base64_image = encode_image(image_path)\n",
    "\n",
    "headers = {\n",
    "    \"Content-Type\": \"application/json\",\n",
    "    \"Authorization\": f\"Bearer {OPENAI_KEY}\",\n",
    "    \"OpenAI-Organization\": f\"{OPENAI_ORG}\"\n",
    "}\n",
    "\n",
    "payload = {\n",
    "    \"model\": \"gpt-4-vision-preview\",\n",
    "    \"messages\": [\n",
    "      {\n",
    "        \"role\": \"user\",\n",
    "        \"content\": [\n",
    "          {\n",
    "            \"type\": \"text\",\n",
    "            \"text\": \"What's in this image?\"\n",
    "          },\n",
    "          {\n",
    "            \"type\": \"image_url\",\n",
    "            \"image_url\": {\n",
    "              \"url\": f\"data:image/jpeg;base64,{base64_image}\"\n",
    "            }\n",
    "          }\n",
    "        ]\n",
    "      }\n",
    "    ],\n",
    "    \"max_tokens\": 300\n",
    "}\n",
    "\n",
    "response = requests.post(\"https://api.openai.com/v1/chat/completions\", headers=headers, json=payload)\n",
    "\n",
    "print(response.json()[\"choices\"][0][\"message\"][\"content\"])"
   ]
  },
  {
   "cell_type": "code",
   "execution_count": null,
   "metadata": {},
   "outputs": [],
   "source": []
  }
 ],
 "metadata": {
  "kernelspec": {
   "display_name": "chatgpt",
   "language": "python",
   "name": "python3"
  },
  "language_info": {
   "codemirror_mode": {
    "name": "ipython",
    "version": 3
   },
   "file_extension": ".py",
   "mimetype": "text/x-python",
   "name": "python",
   "nbconvert_exporter": "python",
   "pygments_lexer": "ipython3",
   "version": "3.8.16"
  },
  "orig_nbformat": 4
 },
 "nbformat": 4,
 "nbformat_minor": 2
}
